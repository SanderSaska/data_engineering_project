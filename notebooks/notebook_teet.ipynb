{
 "cells": [
  {
   "cell_type": "code",
   "execution_count": 1,
   "id": "3ec91c02-a5ad-4bd1-8c95-e1113652ac07",
   "metadata": {},
   "outputs": [
    {
     "name": "stdout",
     "output_type": "stream",
     "text": [
      "An error occurred: Could not open Parquet input source '<Buffer>': Parquet magic bytes not found in footer. Either the file is corrupted or this is not a parquet file.\n"
     ]
    }
   ],
   "source": [
    "import pandas as pd\n",
    "\n",
    "# Path to the Parquet file\n",
    "parquet_file = \"../raw_data/air_quality_data.parquet\"\n",
    "\n",
    "# Read the Parquet file into a Pandas DataFrame\n",
    "try:\n",
    "    df = pd.read_parquet(parquet_file)\n",
    "    print(\"Parquet file loaded successfully!\")\n",
    "\n",
    "    # Display the first 5 rows\n",
    "    print(df.head())\n",
    "\n",
    "    # Display the column names and data types\n",
    "    print(\"\\nColumns and Data Types:\")\n",
    "    print(df.dtypes)\n",
    "\n",
    "    # Display basic statistics\n",
    "    print(\"\\nBasic Statistics:\")\n",
    "    print(df.describe())\n",
    "except Exception as e:\n",
    "    print(f\"An error occurred: {e}\")\n"
   ]
  }
 ],
 "metadata": {
  "kernelspec": {
   "display_name": "Python 3",
   "language": "python",
   "name": "python3"
  },
  "language_info": {
   "codemirror_mode": {
    "name": "ipython",
    "version": 3
   },
   "file_extension": ".py",
   "mimetype": "text/x-python",
   "name": "python",
   "nbconvert_exporter": "python",
   "pygments_lexer": "ipython3",
   "version": "3.13.0"
  }
 },
 "nbformat": 4,
 "nbformat_minor": 5
}
